{
 "cells": [
  {
   "cell_type": "markdown",
   "metadata": {},
   "source": [
    "## Kata 3"
   ]
  },
  {
   "cell_type": "markdown",
   "metadata": {},
   "source": [
    "Ejercicio 1"
   ]
  },
  {
   "cell_type": "code",
   "execution_count": null,
   "metadata": {},
   "outputs": [],
   "source": [
    "asteroide=49\n",
    "if asteroide>25:\n",
    "    print(\"asteroide acercandose rapidamente\")\n",
    "else:\n",
    "    print(\"no pasa nada\")"
   ]
  },
  {
   "cell_type": "markdown",
   "metadata": {},
   "source": [
    "Ejercicio 2"
   ]
  },
  {
   "cell_type": "code",
   "execution_count": null,
   "metadata": {},
   "outputs": [],
   "source": [
    "aasteroide=19\n",
    "if aasteroide>20:\n",
    "    print(\"mira la luz arriba\")\n",
    "elif aasteroide ==20:\n",
    "    print(\"mira la luz arriba\")\n",
    "else:\n",
    "    print(\"no pasa nada\")"
   ]
  },
  {
   "cell_type": "markdown",
   "metadata": {},
   "source": [
    "Ejercicio 3"
   ]
  },
  {
   "cell_type": "code",
   "execution_count": null,
   "metadata": {},
   "outputs": [],
   "source": [
    "vasteroide=25\n",
    "tamañoast=40\n",
    "if vasteroide>25 and tamañoast>25:\n",
    "    print(\"mira arriba, asteroide acercandose\")\n",
    "elif vasteroide >= 20:\n",
    "    print(\"mira la luz arriba\")\n",
    "elif tamañoast < 25:\n",
    "    print(\"no pasa nada\")\n",
    "else:\n",
    "    print(\"no pasa nada\")"
   ]
  },
  {
   "cell_type": "markdown",
   "metadata": {},
   "source": [
    "Enrique Martínez Bañuelos"
   ]
  }
 ],
 "metadata": {
  "interpreter": {
   "hash": "2a45caea3a14dbd9d50249b5c0037a02741656a7e891ad5bda8332e7fdae979c"
  },
  "kernelspec": {
   "display_name": "Python 3.10.2 64-bit",
   "language": "python",
   "name": "python3"
  },
  "language_info": {
   "codemirror_mode": {
    "name": "ipython",
    "version": 3
   },
   "file_extension": ".py",
   "mimetype": "text/x-python",
   "name": "python",
   "nbconvert_exporter": "python",
   "pygments_lexer": "ipython3",
   "version": "3.10.2"
  },
  "orig_nbformat": 4
 },
 "nbformat": 4,
 "nbformat_minor": 2
}
