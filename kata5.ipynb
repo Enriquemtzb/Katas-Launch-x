{
 "cells": [
  {
   "cell_type": "markdown",
   "metadata": {},
   "source": [
    "## Kata 5"
   ]
  },
  {
   "cell_type": "markdown",
   "metadata": {},
   "source": [
    "Ejercicio 1"
   ]
  },
  {
   "cell_type": "code",
   "execution_count": null,
   "metadata": {},
   "outputs": [],
   "source": [
    "kilometros_millas=0.621\n",
    "tierra = 149597870\n",
    "jupiter = 778547200\n",
    "\n",
    "distancia_km = jupiter - tierra\n",
    "distancia_millas = round(distancia_km * kilometros_millas)\n",
    "\n",
    "print ('Distancia en kilometros igual a {} kilometros' .format(distancia_km))\n",
    "print ('Distancia en millas igual a {} millas'.format(distancia_millas))"
   ]
  },
  {
   "cell_type": "markdown",
   "metadata": {},
   "source": [
    "Ejericio 2"
   ]
  },
  {
   "cell_type": "markdown",
   "metadata": {},
   "source": [
    "Mercurio = 57900000, - Venus = 108200000, - Tierra = 149600000, - Marte = 227900000, - Jupiter = 778600000, - Saturno = 1433500000, - Urano = 2872500000, - Neptuno = 4495100000"
   ]
  },
  {
   "cell_type": "code",
   "execution_count": null,
   "metadata": {},
   "outputs": [],
   "source": [
    "kilometros_millas=0.621\n",
    "\n",
    "planeta_1 = input('Introduzca la distancia del planeta 1')\n",
    "planeta_2 = input('Introduzca la distancia del planeta 2')\n",
    "planeta_1 = int(planeta_1)\n",
    "planeta_2 = int(planeta_2)\n",
    "distanciakm = planeta_2-planeta_1\n",
    "distanciamillas = abs(distanciakm * kilometros_millas)\n",
    "\n",
    "print ('Distancia entre planetas en kilometros igual a {} kilometros' .format(distanciakm))\n",
    "print ('Distancia entre planetas en millas igual a {} millas'.format(distanciamillas))"
   ]
  },
  {
   "cell_type": "markdown",
   "metadata": {},
   "source": [
    "Enrique Martínez Bañuelos"
   ]
  }
 ],
 "metadata": {
  "interpreter": {
   "hash": "2a45caea3a14dbd9d50249b5c0037a02741656a7e891ad5bda8332e7fdae979c"
  },
  "kernelspec": {
   "display_name": "Python 3.10.2 64-bit",
   "language": "python",
   "name": "python3"
  },
  "language_info": {
   "codemirror_mode": {
    "name": "ipython",
    "version": 3
   },
   "file_extension": ".py",
   "mimetype": "text/x-python",
   "name": "python",
   "nbconvert_exporter": "python",
   "pygments_lexer": "ipython3",
   "version": "3.10.2"
  },
  "orig_nbformat": 4
 },
 "nbformat": 4,
 "nbformat_minor": 2
}
